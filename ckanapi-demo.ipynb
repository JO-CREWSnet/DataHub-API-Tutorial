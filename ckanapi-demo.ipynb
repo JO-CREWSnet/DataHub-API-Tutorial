{
 "cells": [
  {
   "cell_type": "code",
   "execution_count": 16,
   "metadata": {},
   "outputs": [],
   "source": [
    "from ckanapi import RemoteCKAN\n",
    "import json"
   ]
  },
  {
   "cell_type": "markdown",
   "metadata": {},
   "source": [
    "# CKAN API Python Demo Notebook\n",
    "This notebook demonstrates how to use the [`ckanapi` library](https://github.com/ckan/ckanapi/) to connect to the JO-CREWSnet Data Hub and perform basic actions, such as uploading, downloading, and modifying datasets\n",
    "\n",
    "To install, we assume you are using [`conda`](https://conda.io/) for environment management. Create a new environment\n",
    "```bash\n",
    "conda create -n jo_crewsnet_data_hub\n",
    "```\n",
    "\n",
    "Activate the environment\n",
    "```bash\n",
    "conda activate jo_crewsnet_data_hub\n",
    "```\n",
    "\n",
    "Install requirements\n",
    "```bash\n",
    "conda install --file requirements/conda_requirements -y\n",
    "pip install -r requirements/pip_requirements\n",
    "```"
   ]
  },
  {
   "cell_type": "markdown",
   "metadata": {},
   "source": [
    "## API authentication\n",
    "\n",
    "Most actions will require authentication via an API key. You can create an API key for your account by clicking on your profile button on the top right, and selecting the \"API-Tokens\" tab.\n",
    "\n",
    "The credentials should be stored in a file called `credentials.json`. A template file `credentials.json-template` is provided. Simply rename `credentials.json-template` to `credentials.json` and replace the text `fill-in-with-your-api-key` with your API key."
   ]
  },
  {
   "cell_type": "code",
   "execution_count": 17,
   "metadata": {},
   "outputs": [],
   "source": [
    "with open('credentials.json') as credentials_file:\n",
    "    api_key = json.load(credentials_file)['key']"
   ]
  },
  {
   "cell_type": "markdown",
   "metadata": {},
   "source": [
    "The `ckanapi` package allows you to call the CKAN API, which is documented here: https://docs.ckan.org/en/latest/api/index.html#action-api-reference\n",
    "\n",
    "The usage pattern is that you create a `RemoteCKAN` connector object, and you use the `.action` attribute to call the API functions. The syntax of the function calls after the `.action` attibute in python should match the function name after the last `.` in the API reference."
   ]
  },
  {
   "cell_type": "code",
   "execution_count": 18,
   "metadata": {},
   "outputs": [],
   "source": [
    "# connector for handling API calls\n",
    "hub = RemoteCKAN('https://data.jo-crewsnet.org', apikey=api_key)"
   ]
  },
  {
   "cell_type": "code",
   "execution_count": 19,
   "metadata": {},
   "outputs": [
    {
     "data": {
      "text/plain": [
       "['mit-lincoln-lab', 'test1']"
      ]
     },
     "execution_count": 19,
     "metadata": {},
     "output_type": "execute_result"
    }
   ],
   "source": [
    "# list organizations (calls https://docs.ckan.org/en/latest/api/index.html#ckan.logic.action.get.organization_list)\n",
    "hub.action.organization_list()"
   ]
  },
  {
   "cell_type": "markdown",
   "metadata": {},
   "source": [
    "# Creating a dataset\n",
    "\n",
    "We will create a demo dataset to show how to use the API.\n",
    "\n",
    "To first create a dataset, use the [`hub.action.package_create()` function](https://docs.ckan.org/en/latest/api/index.html#module-ckan.logic.action.create). Datasets are groups of files, called resources, that are all related. Resources can include the data itself in multiple file formats, supporting documentation, such as data dictionaries, licenses, and usage guides."
   ]
  },
  {
   "cell_type": "code",
   "execution_count": 21,
   "metadata": {},
   "outputs": [
    {
     "data": {
      "text/plain": [
       "{'author': 'ckanapi demo',\n",
       " 'author_email': 'ckanapi@example.org',\n",
       " 'creator_user_id': 'c2cd2a09-1969-4fc2-a713-ee0b4eea3995',\n",
       " 'id': '4e918926-0895-4be1-ae66-4a518c8b26fd',\n",
       " 'isopen': True,\n",
       " 'license_id': 'cc-by',\n",
       " 'license_title': 'Creative Commons Attribution',\n",
       " 'license_url': 'http://www.opendefinition.org/licenses/cc-by',\n",
       " 'maintainer': None,\n",
       " 'maintainer_email': None,\n",
       " 'metadata_created': '2024-02-01T13:39:07.763183',\n",
       " 'metadata_modified': '2024-02-01T13:39:07.763190',\n",
       " 'name': 'demo-dataset',\n",
       " 'notes': 'This is a plain text description of this demo dataset',\n",
       " 'num_resources': 0,\n",
       " 'num_tags': 0,\n",
       " 'organization': {'id': '437d3982-e642-482e-82cc-939632882c27',\n",
       "  'name': 'test1',\n",
       "  'title': 'test1',\n",
       "  'type': 'organization',\n",
       "  'description': 'Test organization for demonstration purposes',\n",
       "  'image_url': '',\n",
       "  'created': '2024-02-01T10:45:03.758895',\n",
       "  'is_organization': True,\n",
       "  'approval_status': 'approved',\n",
       "  'state': 'active'},\n",
       " 'owner_org': '437d3982-e642-482e-82cc-939632882c27',\n",
       " 'private': True,\n",
       " 'state': 'active',\n",
       " 'title': 'demo-dataset',\n",
       " 'type': 'dataset',\n",
       " 'url': None,\n",
       " 'version': '1.0',\n",
       " 'extras': [{'key': 'arbitrary_key', 'value': 'arbitrary_value'}],\n",
       " 'resources': [],\n",
       " 'tags': [],\n",
       " 'groups': [],\n",
       " 'relationships_as_subject': [],\n",
       " 'relationships_as_object': []}"
      ]
     },
     "execution_count": 21,
     "metadata": {},
     "output_type": "execute_result"
    }
   ],
   "source": [
    "output = hub.action.package_create(\n",
    "            name='demo-dataset',\n",
    "            private=True,\n",
    "            author='ckanapi demo',\n",
    "            author_email='ckanapi@example.org',\n",
    "            license_id='cc-by',\n",
    "            notes='This is a plain text description of this demo dataset',\n",
    "            version='1.0',\n",
    "            extras=[{'key':'arbitrary_key', 'value':'arbitrary_value'}],\n",
    "            owner_org='test1')\n",
    "output"
   ]
  },
  {
   "cell_type": "markdown",
   "metadata": {},
   "source": [
    "You will be returned a dictionary with information about the newly created dataset. We have stored it in the variable `output`\n",
    "\n",
    "## Adding resources to a dataset\n",
    "\n",
    "To add resources to a dataset, we call the [`hub.action.resource_create`](https://docs.ckan.org/en/latest/api/index.html#ckan.logic.action.create.resource_create) function. Note we need to pass in the `package_id` to associate the resource file with a dataset. The ID of our dataset is available in the `output` variable as `output['id']`. The file to upload should be input as a python file object opened using the [`open()` function](https://docs.python.org/3/library/functions.html#open) in `'rb'` mode."
   ]
  },
  {
   "cell_type": "code",
   "execution_count": 23,
   "metadata": {},
   "outputs": [
    {
     "data": {
      "text/plain": [
       "{'cache_last_updated': None,\n",
       " 'cache_url': None,\n",
       " 'created': '2024-02-01T13:46:09.768732',\n",
       " 'datastore_active': False,\n",
       " 'datastore_contains_all_records_of_source_file': False,\n",
       " 'description': None,\n",
       " 'format': 'CSV',\n",
       " 'hash': '',\n",
       " 'id': 'c470c2a9-e78c-4d6b-9f3e-ded0d691335f',\n",
       " 'last_modified': '2024-02-01T13:46:09.748993',\n",
       " 'metadata_modified': '2024-02-01T13:46:09.766117',\n",
       " 'mimetype': 'text/csv',\n",
       " 'mimetype_inner': None,\n",
       " 'name': 'dummy data file-upload',\n",
       " 'package_id': '4e918926-0895-4be1-ae66-4a518c8b26fd',\n",
       " 'position': 1,\n",
       " 'resource_type': None,\n",
       " 'size': 63,\n",
       " 'state': 'active',\n",
       " 'title': 'Sample data for demo dataset',\n",
       " 'url': 'https://data.jo-crewsnet.org/dataset/4e918926-0895-4be1-ae66-4a518c8b26fd/resource/c470c2a9-e78c-4d6b-9f3e-ded0d691335f/download/dummy_data.csv',\n",
       " 'url_type': 'upload'}"
      ]
     },
     "execution_count": 23,
     "metadata": {},
     "output_type": "execute_result"
    }
   ],
   "source": [
    "hub.action.resource_create(package_id = output['id'],\n",
    "                           name='dummy data file upload',\n",
    "                           title='Sample data for demo dataset',\n",
    "                           upload=open('dummy_data.csv','rb'))"
   ]
  },
  {
   "cell_type": "markdown",
   "metadata": {},
   "source": [
    "## Adding resources later\n",
    "If you want to add resources to an existing dataset, but you forgot the unique ID, you can get the package information by name using the [`hub.action.package_show`](https://docs.ckan.org/en/latest/api/index.html#ckan.logic.action.get.package_show) with the `name_or_id` argument."
   ]
  },
  {
   "cell_type": "code",
   "execution_count": 27,
   "metadata": {},
   "outputs": [
    {
     "data": {
      "text/plain": [
       "{'author': 'ckanapi demo',\n",
       " 'author_email': 'ckanapi@example.org',\n",
       " 'creator_user_id': 'c2cd2a09-1969-4fc2-a713-ee0b4eea3995',\n",
       " 'id': '4e918926-0895-4be1-ae66-4a518c8b26fd',\n",
       " 'isopen': True,\n",
       " 'license_id': 'cc-by',\n",
       " 'license_title': 'Creative Commons Attribution',\n",
       " 'license_url': 'http://www.opendefinition.org/licenses/cc-by',\n",
       " 'maintainer': None,\n",
       " 'maintainer_email': None,\n",
       " 'metadata_created': '2024-02-01T13:39:07.763183',\n",
       " 'metadata_modified': '2024-02-01T13:46:11.406600',\n",
       " 'name': 'demo-dataset',\n",
       " 'notes': 'This is a plain text description of this demo dataset',\n",
       " 'num_resources': 2,\n",
       " 'num_tags': 0,\n",
       " 'organization': {'id': '437d3982-e642-482e-82cc-939632882c27',\n",
       "  'name': 'test1',\n",
       "  'title': 'test1',\n",
       "  'type': 'organization',\n",
       "  'description': 'Test organization for demonstration purposes',\n",
       "  'image_url': '',\n",
       "  'created': '2024-02-01T10:45:03.758895',\n",
       "  'is_organization': True,\n",
       "  'approval_status': 'approved',\n",
       "  'state': 'active'},\n",
       " 'owner_org': '437d3982-e642-482e-82cc-939632882c27',\n",
       " 'private': True,\n",
       " 'state': 'active',\n",
       " 'title': 'demo-dataset',\n",
       " 'type': 'dataset',\n",
       " 'url': None,\n",
       " 'version': '1.0',\n",
       " 'extras': [{'key': 'arbitrary_key', 'value': 'arbitrary_value'}],\n",
       " 'resources': [{'cache_last_updated': None,\n",
       "   'cache_url': None,\n",
       "   'ckan_url': 'https://data.jo-crewsnet.org',\n",
       "   'created': '2024-02-01T13:45:47.085694',\n",
       "   'datastore_active': True,\n",
       "   'datastore_contains_all_records_of_source_file': True,\n",
       "   'description': None,\n",
       "   'format': 'CSV',\n",
       "   'hash': '1bb52b4b0d07df9646ca3be5aab9d1ea',\n",
       "   'id': 'b4a91eab-1d6f-45b8-bfe3-a2167fc535d8',\n",
       "   'ignore_hash': False,\n",
       "   'last_modified': '2024-02-01T13:45:47.067514',\n",
       "   'metadata_modified': '2024-02-01T13:45:49.413291',\n",
       "   'mimetype': 'text/csv',\n",
       "   'mimetype_inner': None,\n",
       "   'name': 'dummy data file-reupload',\n",
       "   'original_url': 'https://data.jo-crewsnet.org/dataset/4e918926-0895-4be1-ae66-4a518c8b26fd/resource/b4a91eab-1d6f-45b8-bfe3-a2167fc535d8/download/dummy_data.csv',\n",
       "   'package_id': '4e918926-0895-4be1-ae66-4a518c8b26fd',\n",
       "   'position': 0,\n",
       "   'resource_id': 'b4a91eab-1d6f-45b8-bfe3-a2167fc535d8',\n",
       "   'resource_type': None,\n",
       "   'set_url_type': False,\n",
       "   'size': 63,\n",
       "   'state': 'active',\n",
       "   'task_created': '2024-02-01 13:45:47.213199',\n",
       "   'title': 'Sample data for dummy dataset',\n",
       "   'url': 'https://data.jo-crewsnet.org/dataset/4e918926-0895-4be1-ae66-4a518c8b26fd/resource/b4a91eab-1d6f-45b8-bfe3-a2167fc535d8/download/dummy_data.csv',\n",
       "   'url_type': 'upload'},\n",
       "  {'cache_last_updated': None,\n",
       "   'cache_url': None,\n",
       "   'ckan_url': 'https://data.jo-crewsnet.org',\n",
       "   'created': '2024-02-01T13:46:09.768732',\n",
       "   'datastore_active': True,\n",
       "   'datastore_contains_all_records_of_source_file': True,\n",
       "   'description': None,\n",
       "   'format': 'CSV',\n",
       "   'hash': '1bb52b4b0d07df9646ca3be5aab9d1ea',\n",
       "   'id': 'c470c2a9-e78c-4d6b-9f3e-ded0d691335f',\n",
       "   'ignore_hash': False,\n",
       "   'last_modified': '2024-02-01T13:46:09.748993',\n",
       "   'metadata_modified': '2024-02-01T13:46:11.415506',\n",
       "   'mimetype': 'text/csv',\n",
       "   'mimetype_inner': None,\n",
       "   'name': 'dummy data file-upload',\n",
       "   'original_url': 'https://data.jo-crewsnet.org/dataset/4e918926-0895-4be1-ae66-4a518c8b26fd/resource/c470c2a9-e78c-4d6b-9f3e-ded0d691335f/download/dummy_data.csv',\n",
       "   'package_id': '4e918926-0895-4be1-ae66-4a518c8b26fd',\n",
       "   'position': 1,\n",
       "   'resource_id': 'c470c2a9-e78c-4d6b-9f3e-ded0d691335f',\n",
       "   'resource_type': None,\n",
       "   'set_url_type': False,\n",
       "   'size': 63,\n",
       "   'state': 'active',\n",
       "   'task_created': '2024-02-01 13:46:09.929500',\n",
       "   'title': 'Sample data for demo dataset',\n",
       "   'url': 'https://data.jo-crewsnet.org/dataset/4e918926-0895-4be1-ae66-4a518c8b26fd/resource/c470c2a9-e78c-4d6b-9f3e-ded0d691335f/download/dummy_data.csv',\n",
       "   'url_type': 'upload'}],\n",
       " 'tags': [],\n",
       " 'groups': [],\n",
       " 'relationships_as_subject': [],\n",
       " 'relationships_as_object': []}"
      ]
     },
     "execution_count": 27,
     "metadata": {},
     "output_type": "execute_result"
    }
   ],
   "source": [
    "package_info = hub.action.package_show(name_or_id='demo-dataset')\n",
    "package_info"
   ]
  },
  {
   "cell_type": "markdown",
   "metadata": {},
   "source": [
    "## Editing a dataset or resource\n",
    "\n",
    "There are two mechanisms for editing an existing dataset or resource: `update` and `patch`. Update rewrites all fields with the fields provided, and any that are omitted will be deleted. Patch only edits the fields provided, and leaves the other fields as they were."
   ]
  },
  {
   "cell_type": "code",
   "execution_count": 31,
   "metadata": {},
   "outputs": [
    {
     "data": {
      "text/plain": [
       "{'author': 'ckanapi demo',\n",
       " 'author_email': 'ckanapi@example.org',\n",
       " 'creator_user_id': 'c2cd2a09-1969-4fc2-a713-ee0b4eea3995',\n",
       " 'id': '4e918926-0895-4be1-ae66-4a518c8b26fd',\n",
       " 'isopen': True,\n",
       " 'license_id': 'cc-by',\n",
       " 'license_title': 'Creative Commons Attribution',\n",
       " 'license_url': 'http://www.opendefinition.org/licenses/cc-by',\n",
       " 'maintainer': None,\n",
       " 'maintainer_email': None,\n",
       " 'metadata_created': '2024-02-01T13:39:07.763183',\n",
       " 'metadata_modified': '2024-02-01T14:29:58.984576',\n",
       " 'name': 'demo-dataset',\n",
       " 'notes': 'This is a plain text description of this demo dataset, updated',\n",
       " 'num_resources': 0,\n",
       " 'num_tags': 0,\n",
       " 'organization': {'id': '437d3982-e642-482e-82cc-939632882c27',\n",
       "  'name': 'test1',\n",
       "  'title': 'test1',\n",
       "  'type': 'organization',\n",
       "  'description': 'Test organization for demonstration purposes',\n",
       "  'image_url': '',\n",
       "  'created': '2024-02-01T10:45:03.758895',\n",
       "  'is_organization': True,\n",
       "  'approval_status': 'approved',\n",
       "  'state': 'active'},\n",
       " 'owner_org': '437d3982-e642-482e-82cc-939632882c27',\n",
       " 'private': False,\n",
       " 'state': 'active',\n",
       " 'title': 'demo-dataset',\n",
       " 'type': 'dataset',\n",
       " 'url': None,\n",
       " 'version': None,\n",
       " 'extras': [{'key': 'arbitrary_key', 'value': 'arbitrary_value'}],\n",
       " 'resources': [],\n",
       " 'tags': [],\n",
       " 'groups': [],\n",
       " 'relationships_as_subject': [],\n",
       " 'relationships_as_object': []}"
      ]
     },
     "execution_count": 31,
     "metadata": {},
     "output_type": "execute_result"
    }
   ],
   "source": [
    "# update the package to make it public - note that we left out the version field this time, so it is removed from the package\n",
    "# note also that the resources are also deleted with update\n",
    "hub.action.package_update(id=package_info['id'],\n",
    "            name='demo-dataset',\n",
    "            private=False,\n",
    "            author='ckanapi demo',\n",
    "            author_email='ckanapi@example.org',\n",
    "            license_id='cc-by',\n",
    "            notes='This is a plain text description of this demo dataset, updated',\n",
    "            extras=[{'key':'arbitrary_key', 'value':'arbitrary_value'}],\n",
    "            owner_org='test1')"
   ]
  },
  {
   "cell_type": "code",
   "execution_count": 32,
   "metadata": {},
   "outputs": [
    {
     "data": {
      "text/plain": [
       "{'cache_last_updated': None,\n",
       " 'cache_url': None,\n",
       " 'created': '2024-02-01T14:30:14.499903',\n",
       " 'datastore_active': False,\n",
       " 'datastore_contains_all_records_of_source_file': False,\n",
       " 'description': None,\n",
       " 'format': 'CSV',\n",
       " 'hash': '',\n",
       " 'id': '194b4a5b-a092-4ee3-b55f-dc8287eb877c',\n",
       " 'last_modified': '2024-02-01T14:30:14.448480',\n",
       " 'metadata_modified': '2024-02-01T14:30:14.489651',\n",
       " 'mimetype': 'text/csv',\n",
       " 'mimetype_inner': None,\n",
       " 'name': 'dummy data file re-upload',\n",
       " 'package_id': '4e918926-0895-4be1-ae66-4a518c8b26fd',\n",
       " 'position': 0,\n",
       " 'resource_type': None,\n",
       " 'size': 63,\n",
       " 'state': 'active',\n",
       " 'title': 'Sample data for demo dataset',\n",
       " 'url': 'https://data.jo-crewsnet.org/dataset/4e918926-0895-4be1-ae66-4a518c8b26fd/resource/194b4a5b-a092-4ee3-b55f-dc8287eb877c/download/dummy_data.csv',\n",
       " 'url_type': 'upload'}"
      ]
     },
     "execution_count": 32,
     "metadata": {},
     "output_type": "execute_result"
    }
   ],
   "source": [
    "hub.action.resource_create(package_id = package_info['id'],\n",
    "                           name='dummy data file re-upload',\n",
    "                           title='Sample data for demo dataset',\n",
    "                           upload=open('dummy_data.csv','rb'))"
   ]
  },
  {
   "cell_type": "code",
   "execution_count": 33,
   "metadata": {},
   "outputs": [
    {
     "data": {
      "text/plain": [
       "{'author': 'ckanapi demo',\n",
       " 'author_email': 'ckanapi@example.org',\n",
       " 'creator_user_id': 'c2cd2a09-1969-4fc2-a713-ee0b4eea3995',\n",
       " 'id': '4e918926-0895-4be1-ae66-4a518c8b26fd',\n",
       " 'isopen': True,\n",
       " 'license_id': 'cc-by',\n",
       " 'license_title': 'Creative Commons Attribution',\n",
       " 'license_url': 'http://www.opendefinition.org/licenses/cc-by',\n",
       " 'maintainer': None,\n",
       " 'maintainer_email': None,\n",
       " 'metadata_created': '2024-02-01T13:39:07.763183',\n",
       " 'metadata_modified': '2024-02-01T14:30:15.741164',\n",
       " 'name': 'demo-dataset',\n",
       " 'notes': 'This is a plain text description of this demo dataset, updated',\n",
       " 'num_resources': 1,\n",
       " 'num_tags': 0,\n",
       " 'organization': {'id': '437d3982-e642-482e-82cc-939632882c27',\n",
       "  'name': 'test1',\n",
       "  'title': 'test1',\n",
       "  'type': 'organization',\n",
       "  'description': 'Test organization for demonstration purposes',\n",
       "  'image_url': '',\n",
       "  'created': '2024-02-01T10:45:03.758895',\n",
       "  'is_organization': True,\n",
       "  'approval_status': 'approved',\n",
       "  'state': 'active'},\n",
       " 'owner_org': '437d3982-e642-482e-82cc-939632882c27',\n",
       " 'private': False,\n",
       " 'state': 'active',\n",
       " 'title': 'demo-dataset',\n",
       " 'type': 'dataset',\n",
       " 'url': None,\n",
       " 'version': '1.1',\n",
       " 'extras': [{'key': 'arbitrary_key', 'value': 'arbitrary_value'}],\n",
       " 'resources': [{'cache_last_updated': None,\n",
       "   'cache_url': None,\n",
       "   'created': '2024-02-01T14:30:14.499903',\n",
       "   'datastore_active': False,\n",
       "   'datastore_contains_all_records_of_source_file': False,\n",
       "   'description': None,\n",
       "   'format': 'CSV',\n",
       "   'hash': '',\n",
       "   'id': '194b4a5b-a092-4ee3-b55f-dc8287eb877c',\n",
       "   'last_modified': '2024-02-01T14:30:14.448480',\n",
       "   'metadata_modified': '2024-02-01T14:30:15.747192',\n",
       "   'mimetype': 'text/csv',\n",
       "   'mimetype_inner': None,\n",
       "   'name': 'dummy data file re-upload',\n",
       "   'package_id': '4e918926-0895-4be1-ae66-4a518c8b26fd',\n",
       "   'position': 0,\n",
       "   'resource_type': None,\n",
       "   'size': 63,\n",
       "   'state': 'active',\n",
       "   'title': 'Sample data for demo dataset',\n",
       "   'url': 'https://data.jo-crewsnet.org/dataset/4e918926-0895-4be1-ae66-4a518c8b26fd/resource/194b4a5b-a092-4ee3-b55f-dc8287eb877c/download/dummy_data.csv',\n",
       "   'url_type': 'upload'}],\n",
       " 'tags': [],\n",
       " 'groups': [],\n",
       " 'relationships_as_subject': [],\n",
       " 'relationships_as_object': []}"
      ]
     },
     "execution_count": 33,
     "metadata": {},
     "output_type": "execute_result"
    }
   ],
   "source": [
    "# let's add the version field back in with patch\n",
    "hub.action.package_patch(id=package_info['id'],\n",
    "                         version=1.1)"
   ]
  },
  {
   "cell_type": "markdown",
   "metadata": {},
   "source": [
    "## Deleting dataset\n",
    "If you need to delete a dataset, you can use [`package_delete`](https://docs.ckan.org/en/latest/api/index.html#ckan.logic.action.delete.package_delete) to delete it"
   ]
  },
  {
   "cell_type": "code",
   "execution_count": 34,
   "metadata": {},
   "outputs": [],
   "source": [
    "hub.action.package_delete(id=package_info['id'])"
   ]
  },
  {
   "cell_type": "code",
   "execution_count": null,
   "metadata": {},
   "outputs": [],
   "source": []
  }
 ],
 "metadata": {
  "kernelspec": {
   "display_name": "ckan",
   "language": "python",
   "name": "python3"
  },
  "language_info": {
   "codemirror_mode": {
    "name": "ipython",
    "version": 3
   },
   "file_extension": ".py",
   "mimetype": "text/x-python",
   "name": "python",
   "nbconvert_exporter": "python",
   "pygments_lexer": "ipython3",
   "version": "3.11.7"
  }
 },
 "nbformat": 4,
 "nbformat_minor": 2
}
