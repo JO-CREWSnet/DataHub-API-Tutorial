{
 "cells": [
  {
   "cell_type": "code",
   "execution_count": 1,
   "metadata": {},
   "outputs": [],
   "source": [
    "from ckanapi import RemoteCKAN\n",
    "import json"
   ]
  },
  {
   "cell_type": "markdown",
   "metadata": {},
   "source": [
    "# CKAN API Python Demo Notebook\n",
    "This notebook demonstrates how to use the [`ckanapi` library](https://github.com/ckan/ckanapi/) to connect to the JO-CREWSnet Data Hub and perform basic actions, such as uploading, downloading, and modifying datasets\n",
    "\n",
    "To install, we assume you are using [`conda`](https://conda.io/) for environment management. Create a new environment\n",
    "```bash\n",
    "conda create -n jo_crewsnet_data_hub\n",
    "```\n",
    "\n",
    "Activate the environment\n",
    "```bash\n",
    "conda activate jo_crewsnet_data_hub\n",
    "```\n",
    "\n",
    "Install requirements\n",
    "```bash\n",
    "conda install --file requirements/conda_requirements -y\n",
    "pip install -r requirements/pip_requirements\n",
    "```"
   ]
  },
  {
   "cell_type": "markdown",
   "metadata": {},
   "source": [
    "## API authentication\n",
    "\n",
    "Most actions will require authentication via an API key. You can create an API key for your account by clicking on your profile button on the top right, and selecting the \"API-Tokens\" tab.\n",
    "\n",
    "The credentials should be stored in a file called `credentials.json`. A template file `credentials.json-template` is provided. Simply rename `credentials.json-template` to `credentials.json` and replace the text `fill-in-with-your-api-key` with your API key."
   ]
  },
  {
   "cell_type": "code",
   "execution_count": 2,
   "metadata": {},
   "outputs": [],
   "source": [
    "with open('credentials.json') as credentials_file:\n",
    "    api_key = json.load(credentials_file)['key']"
   ]
  },
  {
   "cell_type": "markdown",
   "metadata": {},
   "source": [
    "The `ckanapi` package allows you to call the CKAN API, which is documented here: https://docs.ckan.org/en/latest/api/index.html#action-api-reference\n",
    "\n",
    "The usage pattern is that you create a `RemoteCKAN` connector object, and you use the `.action` attribute to call the API functions. The syntax of the function calls after the `.action` attibute in python should match the function name after the last `.` in the API reference."
   ]
  },
  {
   "cell_type": "code",
   "execution_count": 9,
   "metadata": {},
   "outputs": [],
   "source": [
    "# connector for handling API calls\n",
    "hub = RemoteCKAN('https://data.jo-crewsnet.org', apikey=api_key)"
   ]
  },
  {
   "cell_type": "code",
   "execution_count": 6,
   "metadata": {},
   "outputs": [
    {
     "data": {
      "text/plain": [
       "['tester1org']"
      ]
     },
     "execution_count": 6,
     "metadata": {},
     "output_type": "execute_result"
    }
   ],
   "source": [
    "# list organizations (calls https://docs.ckan.org/en/latest/api/index.html#ckan.logic.action.get.organization_list)\n",
    "hub.action.organization_list()"
   ]
  },
  {
   "cell_type": "code",
   "execution_count": 7,
   "metadata": {},
   "outputs": [
    {
     "data": {
      "text/plain": [
       "[]"
      ]
     },
     "execution_count": 7,
     "metadata": {},
     "output_type": "execute_result"
    }
   ],
   "source": [
    "hub.action.group_list()"
   ]
  },
  {
   "cell_type": "markdown",
   "metadata": {},
   "source": [
    "# Creating a dataset\n",
    "\n",
    "We will create a dummy dataset to show how to use the API"
   ]
  },
  {
   "cell_type": "code",
   "execution_count": 17,
   "metadata": {},
   "outputs": [
    {
     "data": {
      "text/plain": [
       "{'author': 'ckanapi demo',\n",
       " 'author_email': 'ckanapi@example.org',\n",
       " 'creator_user_id': '3b128cff-a377-415b-8538-f9d03f9fd264',\n",
       " 'id': '1dc2d6ec-6cee-4414-ba15-267fa1416ffb',\n",
       " 'isopen': True,\n",
       " 'license_id': 'cc-by',\n",
       " 'license_title': 'Creative Commons Attribution',\n",
       " 'license_url': 'http://www.opendefinition.org/licenses/cc-by',\n",
       " 'maintainer': None,\n",
       " 'maintainer_email': None,\n",
       " 'metadata_created': '2024-01-11T15:37:06.984956',\n",
       " 'metadata_modified': '2024-01-11T15:37:06.984966',\n",
       " 'name': 'dummy_dataset',\n",
       " 'notes': 'This is a plain text description of this dummy dataset',\n",
       " 'num_resources': 0,\n",
       " 'num_tags': 0,\n",
       " 'organization': {'id': 'eef9cb30-8492-4129-9e97-521003aa3fb3',\n",
       "  'name': 'tester1org',\n",
       "  'title': 'tester1org',\n",
       "  'type': 'organization',\n",
       "  'description': '',\n",
       "  'image_url': '',\n",
       "  'created': '2024-01-11T14:03:18.808080',\n",
       "  'is_organization': True,\n",
       "  'approval_status': 'approved',\n",
       "  'state': 'active'},\n",
       " 'owner_org': 'eef9cb30-8492-4129-9e97-521003aa3fb3',\n",
       " 'private': True,\n",
       " 'state': 'active',\n",
       " 'title': 'dummy_dataset',\n",
       " 'type': 'dataset',\n",
       " 'url': None,\n",
       " 'version': '1.0',\n",
       " 'extras': [{'key': 'arbitrary_key', 'value': 'arbitrary_value'}],\n",
       " 'resources': [],\n",
       " 'tags': [],\n",
       " 'groups': [],\n",
       " 'relationships_as_subject': [],\n",
       " 'relationships_as_object': []}"
      ]
     },
     "execution_count": 17,
     "metadata": {},
     "output_type": "execute_result"
    }
   ],
   "source": [
    "hub.action.package_create(\n",
    "    name='dummy_dataset',\n",
    "    private=True,\n",
    "    author='ckanapi demo',\n",
    "    author_email='ckanapi@example.org',\n",
    "    license_id='cc-by',\n",
    "    notes='This is a plain text description of this dummy dataset',\n",
    "    version='1.0',\n",
    "    extras=[{'key':'arbitrary_key', 'value':'arbitrary_value'}],\n",
    "    owner_org='tester1org')"
   ]
  },
  {
   "cell_type": "code",
   "execution_count": 20,
   "metadata": {},
   "outputs": [
    {
     "data": {
      "text/plain": [
       "{'count': 0,\n",
       " 'facets': {},\n",
       " 'results': [],\n",
       " 'sort': 'score desc, metadata_modified desc',\n",
       " 'search_facets': {}}"
      ]
     },
     "execution_count": 20,
     "metadata": {},
     "output_type": "execute_result"
    }
   ],
   "source": [
    "hub.action.package_search(q='dummy')"
   ]
  },
  {
   "cell_type": "code",
   "execution_count": 23,
   "metadata": {},
   "outputs": [
    {
     "data": {
      "text/plain": [
       "'1dc2d6ec-6cee-4414-ba15-267fa1416ffb'"
      ]
     },
     "execution_count": 23,
     "metadata": {},
     "output_type": "execute_result"
    }
   ],
   "source": [
    "package_info = hub.action.package_show(name_or_id='dummy_dataset')\n",
    "package_info['id']"
   ]
  },
  {
   "cell_type": "code",
   "execution_count": 27,
   "metadata": {},
   "outputs": [
    {
     "data": {
      "text/plain": [
       "{'cache_last_updated': None,\n",
       " 'cache_url': None,\n",
       " 'created': '2024-01-11T17:38:54.254778',\n",
       " 'datastore_active': False,\n",
       " 'description': None,\n",
       " 'format': 'CSV',\n",
       " 'hash': '',\n",
       " 'id': 'ab536a25-ef32-430a-b5de-90312f1ae73c',\n",
       " 'last_modified': '2024-01-11T17:38:54.178419',\n",
       " 'metadata_modified': '2024-01-11T17:38:54.238804',\n",
       " 'mimetype': 'text/csv',\n",
       " 'mimetype_inner': None,\n",
       " 'name': 'dummy data file-reupload',\n",
       " 'package_id': '1dc2d6ec-6cee-4414-ba15-267fa1416ffb',\n",
       " 'position': 1,\n",
       " 'resource_type': None,\n",
       " 'size': 63,\n",
       " 'state': 'active',\n",
       " 'title': 'Sample data for dummy dataset',\n",
       " 'url': 'https://data.jo-crewsnet.org/dataset/1dc2d6ec-6cee-4414-ba15-267fa1416ffb/resource/ab536a25-ef32-430a-b5de-90312f1ae73c/download/dummy_data.csv',\n",
       " 'url_type': 'upload'}"
      ]
     },
     "execution_count": 27,
     "metadata": {},
     "output_type": "execute_result"
    }
   ],
   "source": [
    "hub.action.resource_create(package_id = package_info['id'],\n",
    "                           name='dummy data file-reupload',\n",
    "                           title='Sample data for dummy dataset',\n",
    "                           upload=open('dummy_data.csv','rb'))"
   ]
  },
  {
   "cell_type": "code",
   "execution_count": null,
   "metadata": {},
   "outputs": [],
   "source": []
  }
 ],
 "metadata": {
  "kernelspec": {
   "display_name": "ckan",
   "language": "python",
   "name": "python3"
  },
  "language_info": {
   "codemirror_mode": {
    "name": "ipython",
    "version": 3
   },
   "file_extension": ".py",
   "mimetype": "text/x-python",
   "name": "python",
   "nbconvert_exporter": "python",
   "pygments_lexer": "ipython3",
   "version": "3.11.7"
  }
 },
 "nbformat": 4,
 "nbformat_minor": 2
}
